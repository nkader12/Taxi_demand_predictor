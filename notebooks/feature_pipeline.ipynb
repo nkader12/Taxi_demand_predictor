{
 "cells": [
  {
   "cell_type": "code",
   "execution_count": 2,
   "metadata": {},
   "outputs": [],
   "source": [
    "#If src not found\n",
    "import sys\n",
    "sys.path.insert(0, \"/Users/Noah/Taxi_demand_predictor\")  # Assuming this is the correct path to project_root"
   ]
  },
  {
   "cell_type": "code",
   "execution_count": 3,
   "metadata": {},
   "outputs": [],
   "source": [
    "import src.config as config"
   ]
  },
  {
   "cell_type": "code",
   "execution_count": 4,
   "metadata": {},
   "outputs": [
    {
     "name": "stdout",
     "output_type": "stream",
     "text": [
      "current_date=Timestamp('2023-08-05 16:00:00')\n"
     ]
    }
   ],
   "source": [
    "from datetime import datetime, timedelta\n",
    "\n",
    "import pandas as pd\n",
    "\n",
    "current_date = pd.to_datetime(datetime.utcnow()).floor('H')\n",
    "print(f'{current_date=}')\n",
    "\n",
    "# we fetch raw data for the last 28 days, to add redundancy to our data pipeline\n",
    "fetch_data_to = current_date\n",
    "fetch_data_from = current_date - timedelta(days=28)"
   ]
  },
  {
   "cell_type": "code",
   "execution_count": 5,
   "metadata": {},
   "outputs": [],
   "source": [
    "from src.data import load_raw_data\n",
    "\n",
    "def fetch_batch_raw_data(from_date: datetime, to_date: datetime) -> pd.DataFrame:\n",
    "    \"\"\"\n",
    "    Simulate production data by sampling historical data from 52 weeks ago (i.e. 1 year)\n",
    "    \"\"\"\n",
    "    from_date_ = from_date - timedelta(days=7*52)\n",
    "    to_date_ = to_date - timedelta(days=7*52)\n",
    "    print(f'{from_date=}, {to_date_=}')\n",
    "\n",
    "    # download 2 files from website\n",
    "    rides = load_raw_data(year=from_date_.year, months=from_date_.month)\n",
    "    rides = rides[rides.pickup_datetime >= from_date_]\n",
    "    rides_2 = load_raw_data(year=to_date_.year, months=to_date_.month)\n",
    "    rides_2 = rides_2[rides_2.pickup_datetime < to_date_]\n",
    "\n",
    "    rides = pd.concat([rides, rides_2])\n",
    "\n",
    "    # shift the data to pretend this is recent data\n",
    "    rides['pickup_datetime'] += timedelta(days=7*52)\n",
    "\n",
    "    rides.sort_values(by=['pickup_location_id', 'pickup_datetime'], inplace=True)\n",
    "\n",
    "    return rides"
   ]
  },
  {
   "cell_type": "code",
   "execution_count": 6,
   "metadata": {},
   "outputs": [
    {
     "name": "stdout",
     "output_type": "stream",
     "text": [
      "from_date=Timestamp('2023-07-08 16:00:00'), to_date_=Timestamp('2022-08-06 16:00:00')\n",
      "File 2022-07 was already in local storage\n",
      "File 2022-08 was already in local storage\n"
     ]
    }
   ],
   "source": [
    "rides = fetch_batch_raw_data(from_date=fetch_data_from, to_date=fetch_data_to)"
   ]
  },
  {
   "cell_type": "code",
   "execution_count": 7,
   "metadata": {},
   "outputs": [
    {
     "name": "stderr",
     "output_type": "stream",
     "text": [
      "100%|██████████| 265/265 [00:01<00:00, 253.73it/s]\n"
     ]
    }
   ],
   "source": [
    "from src.data import transform_raw_data_into_ts_data\n",
    "ts_data = transform_raw_data_into_ts_data(rides)"
   ]
  },
  {
   "cell_type": "code",
   "execution_count": 9,
   "metadata": {},
   "outputs": [
    {
     "name": "stderr",
     "output_type": "stream",
     "text": [
      "/Users/Noah/Taxi_demand_predictor/.venv/lib/python3.10/site-packages/tqdm/auto.py:21: TqdmWarning: IProgress not found. Please update jupyter and ipywidgets. See https://ipywidgets.readthedocs.io/en/stable/user_install.html\n",
      "  from .autonotebook import tqdm as notebook_tqdm\n"
     ]
    },
    {
     "name": "stdout",
     "output_type": "stream",
     "text": [
      "Connected. Call `.close()` to terminate connection gracefully.\n",
      "\n",
      "Logged in to project, explore it here https://c.app.hopsworks.ai:443/p/84130\n",
      "Connected. Call `.close()` to terminate connection gracefully.\n"
     ]
    }
   ],
   "source": [
    "import hopsworks\n",
    "# connect to the project\n",
    "project = hopsworks.login(\n",
    "    project=config.HOPSWORKS_PROJECT_NAME,\n",
    "    api_key_value=config.HOPSWORKS_API_KEY\n",
    ")\n",
    "\n",
    "# connect to the feature store\n",
    "feature_store = project.get_feature_store()\n",
    "\n",
    "# connect to the feature group\n",
    "feature_group = feature_store.get_or_create_feature_group(\n",
    "    name=config.FEATURE_GROUP_NAME,\n",
    "    version=config.FEATURE_GROUP_VERSION,\n",
    "    description=\"Time-series data at hourly frequency\",\n",
    "    primary_key = ['pickup_location_id', 'pickup_hour'],\n",
    "    event_time='pickup_hour',\n",
    ")"
   ]
  },
  {
   "cell_type": "code",
   "execution_count": 10,
   "metadata": {},
   "outputs": [
    {
     "name": "stderr",
     "output_type": "stream",
     "text": [
      "Uploading Dataframe: 100.00% |██████████| Rows 178080/178080 | Elapsed Time: 00:05 | Remaining Time: 00:00\n"
     ]
    },
    {
     "name": "stdout",
     "output_type": "stream",
     "text": [
      "Launching job: time_series_hourly_feature_group_1_offline_fg_backfill\n",
      "Job started successfully, you can follow the progress at \n",
      "https://c.app.hopsworks.ai/p/84130/jobs/named/time_series_hourly_feature_group_1_offline_fg_backfill/executions\n"
     ]
    },
    {
     "ename": "KeyboardInterrupt",
     "evalue": "",
     "output_type": "error",
     "traceback": [
      "\u001b[0;31m---------------------------------------------------------------------------\u001b[0m",
      "\u001b[0;31mKeyboardInterrupt\u001b[0m                         Traceback (most recent call last)",
      "Cell \u001b[0;32mIn[10], line 1\u001b[0m\n\u001b[0;32m----> 1\u001b[0m feature_group\u001b[39m.\u001b[39;49minsert(ts_data, write_options\u001b[39m=\u001b[39;49m{\u001b[39m\"\u001b[39;49m\u001b[39mwait_for_job\u001b[39;49m\u001b[39m\"\u001b[39;49m: \u001b[39mTrue\u001b[39;49;00m})\n",
      "File \u001b[0;32m~/Taxi_demand_predictor/.venv/lib/python3.10/site-packages/hsfs/feature_group.py:1816\u001b[0m, in \u001b[0;36mFeatureGroup.insert\u001b[0;34m(self, features, overwrite, operation, storage, write_options, validation_options, save_code)\u001b[0m\n\u001b[1;32m   1712\u001b[0m \u001b[39m\u001b[39m\u001b[39m\"\"\"Persist the metadata and materialize the feature group to the feature store\u001b[39;00m\n\u001b[1;32m   1713\u001b[0m \u001b[39mor insert data from a dataframe into the existing feature group.\u001b[39;00m\n\u001b[1;32m   1714\u001b[0m \n\u001b[0;32m   (...)\u001b[0m\n\u001b[1;32m   1812\u001b[0m \u001b[39m    (`Job`, `ValidationReport`) A tuple with job information if python engine is used and the validation report if validation is enabled.\u001b[39;00m\n\u001b[1;32m   1813\u001b[0m \u001b[39m\"\"\"\u001b[39;00m\n\u001b[1;32m   1814\u001b[0m feature_dataframe \u001b[39m=\u001b[39m engine\u001b[39m.\u001b[39mget_instance()\u001b[39m.\u001b[39mconvert_to_default_dataframe(features)\n\u001b[0;32m-> 1816\u001b[0m job, ge_report \u001b[39m=\u001b[39m \u001b[39mself\u001b[39;49m\u001b[39m.\u001b[39;49m_feature_group_engine\u001b[39m.\u001b[39;49minsert(\n\u001b[1;32m   1817\u001b[0m     \u001b[39mself\u001b[39;49m,\n\u001b[1;32m   1818\u001b[0m     feature_dataframe\u001b[39m=\u001b[39;49mfeature_dataframe,\n\u001b[1;32m   1819\u001b[0m     overwrite\u001b[39m=\u001b[39;49moverwrite,\n\u001b[1;32m   1820\u001b[0m     operation\u001b[39m=\u001b[39;49moperation,\n\u001b[1;32m   1821\u001b[0m     storage\u001b[39m=\u001b[39;49mstorage\u001b[39m.\u001b[39;49mlower() \u001b[39mif\u001b[39;49;00m storage \u001b[39mis\u001b[39;49;00m \u001b[39mnot\u001b[39;49;00m \u001b[39mNone\u001b[39;49;00m \u001b[39melse\u001b[39;49;00m \u001b[39mNone\u001b[39;49;00m,\n\u001b[1;32m   1822\u001b[0m     write_options\u001b[39m=\u001b[39;49mwrite_options,\n\u001b[1;32m   1823\u001b[0m     validation_options\u001b[39m=\u001b[39;49m{\u001b[39m\"\u001b[39;49m\u001b[39msave_report\u001b[39;49m\u001b[39m\"\u001b[39;49m: \u001b[39mTrue\u001b[39;49;00m, \u001b[39m*\u001b[39;49m\u001b[39m*\u001b[39;49mvalidation_options},\n\u001b[1;32m   1824\u001b[0m )\n\u001b[1;32m   1825\u001b[0m \u001b[39mif\u001b[39;00m save_code \u001b[39mand\u001b[39;00m (\n\u001b[1;32m   1826\u001b[0m     ge_report \u001b[39mis\u001b[39;00m \u001b[39mNone\u001b[39;00m \u001b[39mor\u001b[39;00m ge_report\u001b[39m.\u001b[39mingestion_result \u001b[39m==\u001b[39m \u001b[39m\"\u001b[39m\u001b[39mINGESTED\u001b[39m\u001b[39m\"\u001b[39m\n\u001b[1;32m   1827\u001b[0m ):\n\u001b[1;32m   1828\u001b[0m     \u001b[39mself\u001b[39m\u001b[39m.\u001b[39m_code_engine\u001b[39m.\u001b[39msave_code(\u001b[39mself\u001b[39m)\n",
      "File \u001b[0;32m~/Taxi_demand_predictor/.venv/lib/python3.10/site-packages/hsfs/core/feature_group_engine.py:126\u001b[0m, in \u001b[0;36mFeatureGroupEngine.insert\u001b[0;34m(self, feature_group, feature_dataframe, overwrite, operation, storage, write_options, validation_options)\u001b[0m\n\u001b[1;32m    122\u001b[0m \u001b[39mif\u001b[39;00m overwrite:\n\u001b[1;32m    123\u001b[0m     \u001b[39mself\u001b[39m\u001b[39m.\u001b[39m_feature_group_api\u001b[39m.\u001b[39mdelete_content(feature_group)\n\u001b[1;32m    125\u001b[0m \u001b[39mreturn\u001b[39;00m (\n\u001b[0;32m--> 126\u001b[0m     engine\u001b[39m.\u001b[39;49mget_instance()\u001b[39m.\u001b[39;49msave_dataframe(\n\u001b[1;32m    127\u001b[0m         feature_group,\n\u001b[1;32m    128\u001b[0m         feature_dataframe,\n\u001b[1;32m    129\u001b[0m         \u001b[39m\"\u001b[39;49m\u001b[39mbulk_insert\u001b[39;49m\u001b[39m\"\u001b[39;49m \u001b[39mif\u001b[39;49;00m overwrite \u001b[39melse\u001b[39;49;00m operation,\n\u001b[1;32m    130\u001b[0m         feature_group\u001b[39m.\u001b[39;49monline_enabled,\n\u001b[1;32m    131\u001b[0m         storage,\n\u001b[1;32m    132\u001b[0m         offline_write_options,\n\u001b[1;32m    133\u001b[0m         online_write_options,\n\u001b[1;32m    134\u001b[0m     ),\n\u001b[1;32m    135\u001b[0m     ge_report,\n\u001b[1;32m    136\u001b[0m )\n",
      "File \u001b[0;32m~/Taxi_demand_predictor/.venv/lib/python3.10/site-packages/hsfs/engine/python.py:444\u001b[0m, in \u001b[0;36mEngine.save_dataframe\u001b[0;34m(self, feature_group, dataframe, operation, online_enabled, storage, offline_write_options, online_write_options, validation_id)\u001b[0m\n\u001b[1;32m    429\u001b[0m \u001b[39mdef\u001b[39;00m \u001b[39msave_dataframe\u001b[39m(\n\u001b[1;32m    430\u001b[0m     \u001b[39mself\u001b[39m,\n\u001b[1;32m    431\u001b[0m     feature_group: FeatureGroup,\n\u001b[0;32m   (...)\u001b[0m\n\u001b[1;32m    438\u001b[0m     validation_id: \u001b[39mint\u001b[39m \u001b[39m=\u001b[39m \u001b[39mNone\u001b[39;00m,\n\u001b[1;32m    439\u001b[0m ):\n\u001b[1;32m    440\u001b[0m     \u001b[39mif\u001b[39;00m (\n\u001b[1;32m    441\u001b[0m         \u001b[39misinstance\u001b[39m(feature_group, ExternalFeatureGroup)\n\u001b[1;32m    442\u001b[0m         \u001b[39mand\u001b[39;00m feature_group\u001b[39m.\u001b[39monline_enabled\n\u001b[1;32m    443\u001b[0m     ) \u001b[39mor\u001b[39;00m feature_group\u001b[39m.\u001b[39mstream:\n\u001b[0;32m--> 444\u001b[0m         \u001b[39mreturn\u001b[39;00m \u001b[39mself\u001b[39;49m\u001b[39m.\u001b[39;49m_write_dataframe_kafka(\n\u001b[1;32m    445\u001b[0m             feature_group, dataframe, offline_write_options\n\u001b[1;32m    446\u001b[0m         )\n\u001b[1;32m    447\u001b[0m     \u001b[39melse\u001b[39;00m:\n\u001b[1;32m    448\u001b[0m         \u001b[39m# for backwards compatibility\u001b[39;00m\n\u001b[1;32m    449\u001b[0m         \u001b[39mreturn\u001b[39;00m \u001b[39mself\u001b[39m\u001b[39m.\u001b[39mlegacy_save_dataframe(\n\u001b[1;32m    450\u001b[0m             feature_group,\n\u001b[1;32m    451\u001b[0m             dataframe,\n\u001b[0;32m   (...)\u001b[0m\n\u001b[1;32m    457\u001b[0m             validation_id,\n\u001b[1;32m    458\u001b[0m         )\n",
      "File \u001b[0;32m~/Taxi_demand_predictor/.venv/lib/python3.10/site-packages/hsfs/engine/python.py:935\u001b[0m, in \u001b[0;36mEngine._write_dataframe_kafka\u001b[0;34m(self, feature_group, dataframe, offline_write_options)\u001b[0m\n\u001b[1;32m    925\u001b[0m     feature_group\u001b[39m.\u001b[39mbackfill_job\u001b[39m.\u001b[39mrun(\n\u001b[1;32m    926\u001b[0m         args\u001b[39m=\u001b[39mfeature_group\u001b[39m.\u001b[39mbackfill_job\u001b[39m.\u001b[39mconfig\u001b[39m.\u001b[39mget(\u001b[39m\"\u001b[39m\u001b[39mdefaultArgs\u001b[39m\u001b[39m\"\u001b[39m, \u001b[39m\"\u001b[39m\u001b[39m\"\u001b[39m)\n\u001b[1;32m    927\u001b[0m         \u001b[39m+\u001b[39m \u001b[39m\"\u001b[39m\u001b[39m -kafkaOffsetReset true\u001b[39m\u001b[39m\"\u001b[39m,\n\u001b[1;32m    928\u001b[0m         await_termination\u001b[39m=\u001b[39moffline_write_options\u001b[39m.\u001b[39mget(\u001b[39m\"\u001b[39m\u001b[39mwait_for_job\u001b[39m\u001b[39m\"\u001b[39m, \u001b[39mTrue\u001b[39;00m),\n\u001b[1;32m    929\u001b[0m     )\n\u001b[1;32m    930\u001b[0m \u001b[39melif\u001b[39;00m (\n\u001b[1;32m    931\u001b[0m     \u001b[39mnot\u001b[39;00m \u001b[39misinstance\u001b[39m(feature_group, ExternalFeatureGroup)\n\u001b[1;32m    932\u001b[0m     \u001b[39mand\u001b[39;00m offline_write_options \u001b[39mis\u001b[39;00m \u001b[39mnot\u001b[39;00m \u001b[39mNone\u001b[39;00m\n\u001b[1;32m    933\u001b[0m     \u001b[39mand\u001b[39;00m offline_write_options\u001b[39m.\u001b[39mget(\u001b[39m\"\u001b[39m\u001b[39mstart_offline_backfill\u001b[39m\u001b[39m\"\u001b[39m, \u001b[39mTrue\u001b[39;00m)\n\u001b[1;32m    934\u001b[0m ):\n\u001b[0;32m--> 935\u001b[0m     feature_group\u001b[39m.\u001b[39;49mbackfill_job\u001b[39m.\u001b[39;49mrun(\n\u001b[1;32m    936\u001b[0m         await_termination\u001b[39m=\u001b[39;49moffline_write_options\u001b[39m.\u001b[39;49mget(\u001b[39m\"\u001b[39;49m\u001b[39mwait_for_job\u001b[39;49m\u001b[39m\"\u001b[39;49m, \u001b[39mTrue\u001b[39;49;00m)\n\u001b[1;32m    937\u001b[0m     )\n\u001b[1;32m    938\u001b[0m \u001b[39mif\u001b[39;00m \u001b[39misinstance\u001b[39m(feature_group, ExternalFeatureGroup):\n\u001b[1;32m    939\u001b[0m     \u001b[39mreturn\u001b[39;00m \u001b[39mNone\u001b[39;00m\n",
      "File \u001b[0;32m~/Taxi_demand_predictor/.venv/lib/python3.10/site-packages/hsfs/core/job.py:106\u001b[0m, in \u001b[0;36mJob.run\u001b[0;34m(self, args, await_termination)\u001b[0m\n\u001b[1;32m    100\u001b[0m \u001b[39mself\u001b[39m\u001b[39m.\u001b[39m_job_api\u001b[39m.\u001b[39mlaunch(\u001b[39mself\u001b[39m\u001b[39m.\u001b[39mname, args\u001b[39m=\u001b[39margs)\n\u001b[1;32m    101\u001b[0m \u001b[39mprint\u001b[39m(\n\u001b[1;32m    102\u001b[0m     \u001b[39m\"\u001b[39m\u001b[39mJob started successfully, you can follow the progress at \u001b[39m\u001b[39m\\n\u001b[39;00m\u001b[39m{}\u001b[39;00m\u001b[39m\"\u001b[39m\u001b[39m.\u001b[39mformat(\n\u001b[1;32m    103\u001b[0m         engine\u001b[39m.\u001b[39mget_instance()\u001b[39m.\u001b[39mget_job_url(\u001b[39mself\u001b[39m\u001b[39m.\u001b[39mhref)\n\u001b[1;32m    104\u001b[0m     )\n\u001b[1;32m    105\u001b[0m )\n\u001b[0;32m--> 106\u001b[0m engine\u001b[39m.\u001b[39;49mget_instance()\u001b[39m.\u001b[39;49mwait_for_job(\u001b[39mself\u001b[39;49m, await_termination\u001b[39m=\u001b[39;49mawait_termination)\n",
      "File \u001b[0;32m~/Taxi_demand_predictor/.venv/lib/python3.10/site-packages/hsfs/engine/python.py:773\u001b[0m, in \u001b[0;36mEngine.wait_for_job\u001b[0;34m(self, job, await_termination)\u001b[0m\n\u001b[1;32m    770\u001b[0m \u001b[39melif\u001b[39;00m execution\u001b[39m.\u001b[39mfinal_status\u001b[39m.\u001b[39mlower() \u001b[39m==\u001b[39m \u001b[39m\"\u001b[39m\u001b[39mkilled\u001b[39m\u001b[39m\"\u001b[39m:\n\u001b[1;32m    771\u001b[0m     \u001b[39mraise\u001b[39;00m exceptions\u001b[39m.\u001b[39mFeatureStoreException(\u001b[39m\"\u001b[39m\u001b[39mThe Hopsworks Job was stopped\u001b[39m\u001b[39m\"\u001b[39m)\n\u001b[0;32m--> 773\u001b[0m time\u001b[39m.\u001b[39;49msleep(\u001b[39m3\u001b[39;49m)\n",
      "\u001b[0;31mKeyboardInterrupt\u001b[0m: "
     ]
    }
   ],
   "source": [
    "feature_group.insert(ts_data, write_options={\"wait_for_job\": True})"
   ]
  }
 ],
 "metadata": {
  "kernelspec": {
   "display_name": ".venv",
   "language": "python",
   "name": "python3"
  },
  "language_info": {
   "codemirror_mode": {
    "name": "ipython",
    "version": 3
   },
   "file_extension": ".py",
   "mimetype": "text/x-python",
   "name": "python",
   "nbconvert_exporter": "python",
   "pygments_lexer": "ipython3",
   "version": "3.10.12"
  },
  "orig_nbformat": 4
 },
 "nbformat": 4,
 "nbformat_minor": 2
}
